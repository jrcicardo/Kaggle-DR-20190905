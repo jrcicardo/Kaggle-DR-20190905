{
 "cells": [
  {
   "cell_type": "code",
   "execution_count": 1,
   "metadata": {},
   "outputs": [],
   "source": [
    "import numpy as np \n",
    "import pandas as pd \n",
    "\n",
    "import cv2\n",
    "from tensorflow import keras\n",
    "from imgaug import augmenters as ia\n",
    "import os\n",
    "import matplotlib.pyplot as plt\n",
    "import gc; gc.enable()\n",
    "\n",
    "# here = os.path.dirname(os.path.abspath(__file__))\n",
    "PATH_IN =  '/Users/flatironschool/Documents/Kaggle/Kaggle-DR-detection/data/'\n",
    "PATH_IMG = PATH_IN + \"resized train 15/\"\n",
    "PATH_OUT = PATH_IN + 'train/'\n",
    "# body\n",
    "\n",
    "# read in the list of training images\n",
    "df = pd.read_csv(PATH_IN + \"labels/trainLabels15.csv\")\n",
    "# df = df.head().copy()\n",
    "gc.collect()\n",
    "\n",
    "# idiot-test with first image\n",
    "id_code = df['image'].values[0]\n",
    "label = df['level'].values[0]\n",
    "labels = {}\n",
    "#\n",
    "# SKIP\n",
    "# do the thing... (loop)\n",
    "flip_h = ia.Fliplr(1)\n",
    "flip_v = ia.Flipud(1)\n",
    "# g_blur = ia.GaussianBlur(sigma=(0.0, 5.0))\n",
    "# rotate = ia.Affine(rotate=(-180, 180))\n",
    "shear = ia.Affine(shear=(-5, 5))\n"
   ]
  },
  {
   "cell_type": "code",
   "execution_count": 2,
   "metadata": {},
   "outputs": [],
   "source": [
    "def get_img(id_code):\n",
    "    img_path = PATH_IMG+id_code+'.jpg'\n",
    "    img = cv2.imread(img_path)\n",
    "#     plt.imshow(img)\n",
    "    return img\n",
    "\n",
    "def getRadius(img):\n",
    "    circles = cv2.HoughCircles(img,3,1,max(img.shape)/2,param1=50,param2=30,minRadius= int(max(img.shape)/6),maxRadius=max(img.shape))\n",
    "    return circles[0][0][2]"
   ]
  },
  {
   "cell_type": "code",
   "execution_count": 4,
   "metadata": {},
   "outputs": [
    {
     "data": {
      "text/plain": [
       "0    25810\n",
       "2     5292\n",
       "1     2443\n",
       "3      873\n",
       "4      708\n",
       "Name: level, dtype: int64"
      ]
     },
     "execution_count": 4,
     "metadata": {},
     "output_type": "execute_result"
    }
   ],
   "source": [
    "df['level'].value_counts()"
   ]
  },
  {
   "cell_type": "code",
   "execution_count": 5,
   "metadata": {},
   "outputs": [],
   "source": [
    "three = 0\n",
    "four = 0\n",
    "for ind in df.index:\n",
    "    id_code = df['image'][ind]\n",
    "    diag = df['level'][ind]\n",
    "    if diag == 1:\n",
    "        subfolder = str(diag)+'/'\n",
    "        img = get_img(id_code)\n",
    "        \n",
    "        h = id_code +'_h'\n",
    "        v = id_code + '_v'\n",
    "        rot = id_code +'_rot'\n",
    "        sh = id_code + '_sh'\n",
    "#     blur = id_code + '_blur'    \n",
    "#         cv2.imwrite(PATH_OUT+subfolder + h + \".png\",flip_h.augment_image(img))\n",
    "#         cv2.imwrite(PATH_OUT+subfolder + v + \".png\",flip_v.augment_image(img))\n",
    "#             cv2.imwrite(PATH_OUT+subfolder + rot+ '.png',rotate.augment_image(img))\n",
    "#         cv2.imwrite(PATH_OUT+subfolder + sh + \".png\",shear.augment_image(img))\n",
    "#         cv2.imwrite(PATH_OUT+subfolder + blur + '.png',g_blur.augment_image(img)) \n",
    "        cv2.imwrite(PATH_OUT+subfolder + id_code + '.png', img)\n",
    "#         labels.update(dict.fromkeys([h,v,sh,id_code],diag))\n",
    "    # for each augmentation\n",
    "        # save new image\n",
    "        # update new list of labels"
   ]
  },
  {
   "cell_type": "code",
   "execution_count": 6,
   "metadata": {},
   "outputs": [],
   "source": [
    "lbls = pd.DataFrame()\n",
    "lbls = lbls.from_dict(labels, orient='index', columns = ['diagnosis'])"
   ]
  },
  {
   "cell_type": "code",
   "execution_count": 7,
   "metadata": {},
   "outputs": [],
   "source": [
    "lbls.to_csv(PATH_IN+'dr15labels_4.csv')"
   ]
  },
  {
   "cell_type": "code",
   "execution_count": 8,
   "metadata": {},
   "outputs": [
    {
     "data": {
      "text/plain": [
       "4655"
      ]
     },
     "execution_count": 8,
     "metadata": {},
     "output_type": "execute_result"
    }
   ],
   "source": [
    "len(os.listdir(PATH_OUT+'4/'))"
   ]
  },
  {
   "cell_type": "code",
   "execution_count": null,
   "metadata": {},
   "outputs": [],
   "source": []
  }
 ],
 "metadata": {
  "kernelspec": {
   "display_name": "Python 3",
   "language": "python",
   "name": "python3"
  },
  "language_info": {
   "codemirror_mode": {
    "name": "ipython",
    "version": 3
   },
   "file_extension": ".py",
   "mimetype": "text/x-python",
   "name": "python",
   "nbconvert_exporter": "python",
   "pygments_lexer": "ipython3",
   "version": "3.6.6"
  }
 },
 "nbformat": 4,
 "nbformat_minor": 2
}
