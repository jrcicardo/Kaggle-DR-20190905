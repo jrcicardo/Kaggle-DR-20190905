{
 "cells": [
  {
   "cell_type": "code",
   "execution_count": 1,
   "metadata": {},
   "outputs": [],
   "source": [
    "#copy file\n",
    "#erase original file\n",
    "#cd\n",
    "#write file"
   ]
  },
  {
   "cell_type": "code",
   "execution_count": 15,
   "metadata": {},
   "outputs": [
    {
     "name": "stdout",
     "output_type": "stream",
     "text": [
      "../Kaggle-DR-detection/data/train/2/d990a3f0cbdb_h.png\n"
     ]
    }
   ],
   "source": [
    "import os\n",
    "import random\n",
    "import re\n",
    "import sys\n",
    " \n",
    "\n",
    "where = '../Kaggle-DR-detection/data/train'  \n",
    " \n",
    "subdirs = list(filter(lambda x: re.search('^[0-9]*$', x), os.listdir(where)))\n",
    "subdir = os.path.join(where,random.choice(subdirs))\n",
    "print(os.path.join(subdir,random.choice(os.listdir(subdir))))"
   ]
  }
 ],
 "metadata": {
  "kernelspec": {
   "display_name": "Python 3",
   "language": "python",
   "name": "python3"
  },
  "language_info": {
   "codemirror_mode": {
    "name": "ipython",
    "version": 3
   },
   "file_extension": ".py",
   "mimetype": "text/x-python",
   "name": "python",
   "nbconvert_exporter": "python",
   "pygments_lexer": "ipython3",
   "version": "3.6.6"
  }
 },
 "nbformat": 4,
 "nbformat_minor": 2
}
